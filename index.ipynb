{
 "cells": [
  {
   "cell_type": "code",
   "execution_count": 32,
   "metadata": {},
   "outputs": [],
   "source": [
    "## Name: Dzaky Adla Hikmatiyar\n",
    "## NRP: 5009201005"
   ]
  },
  {
   "cell_type": "code",
   "execution_count": 30,
   "metadata": {},
   "outputs": [],
   "source": [
    "def convolution_1d(input, kernel):\n",
    "    # Ensure the kernel size is bigger than the input size\n",
    "    if len(kernel) < len(input):\n",
    "        raise ValueError(\"Kernel size must be bigger than the input size\")\n",
    "\n",
    "    # Get the size of the input and kernel\n",
    "    input_size = len(input)\n",
    "    kernel_size = len(kernel)\n",
    "\n",
    "    # Reverse the input array\n",
    "    input.reverse()\n",
    "    print(\"Input:\", input)\n",
    "    print(\"Kernel:\", kernel)\n",
    "\n",
    "    # Adding zeros to kernel\n",
    "    for i in range(kernel_size, kernel_size+input_size-1):\n",
    "        kernel.insert(i, 0)\n",
    "    for i in range(input_size-1):\n",
    "        kernel.insert(i, 0)\n",
    "\n",
    "    # Calculate the size of the output array\n",
    "    output_size = input_size + kernel_size - 1\n",
    "\n",
    "    # Initialize the output array\n",
    "    output = [0]*output_size\n",
    "\n",
    "    # Perform 1D convolution\n",
    "    for i in range(output_size):\n",
    "        for j in range(input_size):\n",
    "            output[i] += input[j]*kernel[i+j]\n",
    "\n",
    "    return output\n"
   ]
  },
  {
   "cell_type": "code",
   "execution_count": 31,
   "metadata": {},
   "outputs": [
    {
     "name": "stdout",
     "output_type": "stream",
     "text": [
      "Input: [3, 2, 1]\n",
      "Kernel: [1, 2, 3, 4, 5]\n",
      "Output: [1, 4, 10, 16, 22, 22, 15]\n"
     ]
    }
   ],
   "source": [
    "# Use function here\n",
    "input_arr = [1, 2, 3]\n",
    "kernel = [1, 2, 3, 4, 5]\n",
    "\n",
    "output = convolution_1d(input_arr, kernel)\n",
    "print(\"Output:\", output)"
   ]
  }
 ],
 "metadata": {
  "kernelspec": {
   "display_name": "Python 3",
   "language": "python",
   "name": "python3"
  },
  "language_info": {
   "codemirror_mode": {
    "name": "ipython",
    "version": 3
   },
   "file_extension": ".py",
   "mimetype": "text/x-python",
   "name": "python",
   "nbconvert_exporter": "python",
   "pygments_lexer": "ipython3",
   "version": "3.9.13"
  }
 },
 "nbformat": 4,
 "nbformat_minor": 2
}
